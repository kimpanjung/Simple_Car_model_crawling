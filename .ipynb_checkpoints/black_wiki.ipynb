{
 "cells": [
  {
   "cell_type": "code",
   "execution_count": 3,
   "metadata": {},
   "outputs": [
    {
     "name": "stderr",
     "output_type": "stream",
     "text": [
      "\n",
      "\n",
      "====== WebDriver manager ======\n",
      "Current google-chrome version is 103.0.5060\n",
      "Get LATEST chromedriver version for 103.0.5060 google-chrome\n",
      "Driver [/Users/wanya/.wdm/drivers/chromedriver/mac64/103.0.5060.53/chromedriver] found in cache\n"
     ]
    }
   ],
   "source": [
    "### selenium importing\n",
    "from selenium import webdriver\n",
    "from bs4 import BeautifulSoup\n",
    "from selenium.webdriver.support.ui import Select\n",
    "from selenium.webdriver.support.select import Select\n",
    "from selenium.webdriver.common.by import By\n",
    "from selenium.webdriver.chrome.service import Service\n",
    "from webdriver_manager.chrome import ChromeDriverManager\n",
    "\n",
    "### chrome driver\n",
    "# windows\n",
    "# driver = webdriver.Chrome('F:\\python\\house_crawling\\chromedriver.exe')\n",
    "\n",
    "# MacOS\n",
    "# driver = webdriver.Chrome('/Users/wanya/Simple_Car_model_crawling/chromedriver')\n",
    "chrome_options = webdriver.ChromeOptions()\n",
    "driver = webdriver.Chrome(service=Service(ChromeDriverManager().install()), options=chrome_options)\n",
    "  \n",
    "# blackwiki 사이트 접속\n",
    "driver.get('https://blackkiwi.net')"
   ]
  },
  {
   "cell_type": "code",
   "execution_count": 29,
   "metadata": {},
   "outputs": [],
   "source": [
    "driver.get('https://blackkiwi.net/member/login?redirectUrl=/')"
   ]
  },
  {
   "cell_type": "code",
   "execution_count": 34,
   "metadata": {},
   "outputs": [],
   "source": [
    "from selenium.webdriver.common.by import By\n",
    "\n",
    "def click_button(driver, path):\n",
    "    driver.find_element(By.CSS_SELECTOR, path).click()\n",
    "\n",
    "def send_keys(drver, path, value):\n",
    "    driver.implicitly_wait(3)\n",
    "    driver.find_element(By.CSS_SELECTOR, path).send_keys(value)"
   ]
  },
  {
   "cell_type": "code",
   "execution_count": 41,
   "metadata": {},
   "outputs": [],
   "source": [
    "# data@jejupass.co.kr\n",
    "# epdlxj1234!!(데이터1234!!)\n",
    "# #root > div.style__MemberFormContainer-sc-4c0i84-0.iefOth > div > div > button\n",
    "selector_email = '#root > div.style__MemberFormContainer-sc-4c0i84-0.iefOth > div > div > input:nth-child(6)'\n",
    "selector_password = '#root > div.style__MemberFormContainer-sc-4c0i84-0.iefOth > div > div > input:nth-child(7)'\n",
    "selector_login_button ='#root > div.style__MemberFormContainer-sc-4c0i84-0.iefOth > div > div > button'\n",
    "\n",
    "send_keys(driver, selector_email, 'data@jejupass.co.kr')"
   ]
  },
  {
   "cell_type": "code",
   "execution_count": 42,
   "metadata": {},
   "outputs": [],
   "source": [
    "send_keys(driver, selector_password, 'epdlxj1234!!(데이터1234!!)')"
   ]
  },
  {
   "cell_type": "code",
   "execution_count": 44,
   "metadata": {},
   "outputs": [],
   "source": [
    "click_button(driver, selector_login_button )"
   ]
  },
  {
   "cell_type": "code",
   "execution_count": 45,
   "metadata": {},
   "outputs": [
    {
     "name": "stderr",
     "output_type": "stream",
     "text": [
      "\n",
      "\n",
      "====== WebDriver manager ======\n",
      "Current google-chrome version is 103.0.5060\n",
      "Get LATEST chromedriver version for 103.0.5060 google-chrome\n",
      "Driver [/Users/wanya/.wdm/drivers/chromedriver/mac64/103.0.5060.53/chromedriver] found in cache\n"
     ]
    },
    {
     "name": "stdout",
     "output_type": "stream",
     "text": [
      "Mozilla/5.0 (Windows NT 10.0; Win64; x64) AppleWebKit/537.36 (KHTML, like Gecko) Chrome/83.0.4103.53 Safari/537.36\n"
     ]
    }
   ],
   "source": [
    "from selenium import webdriver\n",
    "\n",
    "options = webdriver.ChromeOptions() \n",
    "options.add_argument(\"start-maximized\")\n",
    "options.add_experimental_option(\"excludeSwitches\", [\"enable-automation\"])\n",
    "options.add_experimental_option('useAutomationExtension', False)\n",
    "options.add_argument(\"-disable-blink-features\") \n",
    "options.add_argument(\"-disable-blink-features=AutomationControlled\")\n",
    "# driver = webdriver.Chrome(options=options, executable_path=r'C:\\WebDrivers\\chromedriver.exe')\n",
    "\n",
    "driver = webdriver.Chrome(service=Service(ChromeDriverManager().install()), options=chrome_options)\n",
    "\n",
    "driver.execute_script(\"Object.defineProperty(navigator, 'webdriver', {get: () => undefined})\")\n",
    "driver.execute_cdp_cmd('Network.setUserAgentOverride', {\"userAgent\": 'Mozilla/5.0 (Windows NT 10.0; Win64; x64) AppleWebKit/537.36 (KHTML, like Gecko) Chrome/83.0.4103.53 Safari/537.36'})\n",
    "print(driver.execute_script(\"return navigator.userAgent;\"))\n",
    "\n",
    "driver.get('https://blackkiwi.net/member/login?redirectUrl=/')"
   ]
  },
  {
   "cell_type": "code",
   "execution_count": 4,
   "metadata": {},
   "outputs": [
    {
     "name": "stderr",
     "output_type": "stream",
     "text": [
      "\n",
      "\n",
      "====== WebDriver manager ======\n",
      "Current google-chrome version is 103.0.5060\n",
      "Get LATEST chromedriver version for 103.0.5060 google-chrome\n",
      "Driver [/Users/wanya/.wdm/drivers/chromedriver/mac64/103.0.5060.53/chromedriver] found in cache\n"
     ]
    },
    {
     "name": "stdout",
     "output_type": "stream",
     "text": [
      "블랙키위 - 로그인\n"
     ]
    }
   ],
   "source": [
    "from selenium import webdriver\n",
    "from selenium.webdriver.chrome.options import Options\n",
    "from selenium.webdriver.common.by import By\n",
    "from selenium.webdriver.support.ui import WebDriverWait\n",
    "from selenium.webdriver.chrome.service import Service\n",
    "from webdriver_manager.chrome import ChromeDriverManager\n",
    "\n",
    "\n",
    "from selenium.webdriver.support import expected_conditions as EC\n",
    "\n",
    "options = Options()\n",
    "options.add_argument(\"start-maximized\")\n",
    "options.add_argument(\"disable-infobars\")\n",
    "options.add_argument(\"--disable-extensions\")\n",
    "driver = webdriver.Chrome(service=Service(ChromeDriverManager().install()), options=options)\n",
    "\n",
    "# driver = webdriver.Chrome(chrome_options=options, executable_path=r'C:\\Utility\\BrowserDrivers\\chromedriver.exe')\n",
    "# driver.get(\"https://www.mouser.co.uk\")\n",
    "# myElement = WebDriverWait(driver, 30).until(EC.element_to_be_clickable((By.XPATH, \"//a[@id='1_lnkLeftFlag']\")))\n",
    "# driver.execute_script(\"arguments[0].click();\", myElement)\n",
    "driver.get('https://blackkiwi.net/member/login?redirectUrl=/')\n",
    "\n",
    "print(driver.title)\n",
    "\n",
    "\n"
   ]
  },
  {
   "cell_type": "code",
   "execution_count": 13,
   "metadata": {},
   "outputs": [],
   "source": [
    "from selenium.webdriver.common.by import By\n",
    "\n",
    "def click_button(driver, path):\n",
    "    driver.implicitly_wait(3)\n",
    "    driver.find_element(By.CSS_SELECTOR, path).click()\n",
    "\n",
    "def send_keys(drver, path, value):\n",
    "    driver.implicitly_wait(3)\n",
    "    driver.find_element(By.CSS_SELECTOR, path).send_keys(value)"
   ]
  },
  {
   "cell_type": "code",
   "execution_count": null,
   "metadata": {},
   "outputs": [],
   "source": [
    "# data@jejupass.co.kr\n",
    "# epdlxj1234!!(데이터1234!!)\n",
    "# #root > div.style__MemberFormContainer-sc-4c0i84-0.iefOth > div > div > button\n",
    "selector_email = '#root > div.style__MemberFormContainer-sc-4c0i84-0.iefOth > div > div > input:nth-child(6)'\n",
    "selector_password = '#root > div.style__MemberFormContainer-sc-4c0i84-0.iefOth > div > div > input:nth-child(7)'\n",
    "selector_login_button ='#root > div.style__MemberFormContainer-sc-4c0i84-0.iefOth > div > div > button'\n",
    "\n",
    "send_keys(driver, selector_email, 'data@jejupass.co.kr')"
   ]
  },
  {
   "cell_type": "code",
   "execution_count": 7,
   "metadata": {},
   "outputs": [],
   "source": [
    "import undetected_chromedriver.v2 as uc\n",
    "driver = uc.Chrome()\n",
    "driver.get('https://blackkiwi.net/member/login?redirectUrl=/')  # known url using cloudflare's \"under attack mode\""
   ]
  },
  {
   "cell_type": "code",
   "execution_count": 18,
   "metadata": {},
   "outputs": [],
   "source": [
    "\n",
    "#root > div.style__MemberForm-sc-4c0i84-2.churSe > input:nth-child(6)\n",
    "#root > div.style__MemberForm-sc-4c0i84-2.churSe > input:nth-child(7)\n",
    "#root > div.style__MemberForm-sc-4c0i84-2.churSe > input:nth-child(7)\n",
    "selector_email = '#root > div.style__MemberForm-sc-4c0i84-2.churSe > input:nth-child(6)'\n",
    "selector_password = '#root > div.style__MemberForm-sc-4c0i84-2.churSe > input:nth-child(7)'\n",
    "selector_login_button ='#root > div.style__MemberForm-sc-4c0i84-2.churSe > button' #'#root > div.style__MemberFormContainer-sc-4c0i84-0.iefOth > div > div > button'\n",
    "\n",
    "send_keys(driver, selector_email, 'data@jejupass.co.kr')\n",
    "send_keys(driver, selector_password, 'epdlxj1234!!')"
   ]
  },
  {
   "cell_type": "code",
   "execution_count": 19,
   "metadata": {},
   "outputs": [],
   "source": [
    "click_button(driver ,selector_login_button )"
   ]
  },
  {
   "cell_type": "code",
   "execution_count": 20,
   "metadata": {},
   "outputs": [],
   "source": [
    "selector_keyworkd = '#root > main > section.style__HomeTopContainer-sc-1ypokg9-1.isrIVV > div.style__HomeTopInnerWrapper-sc-1ypokg9-2.iKXpzr > div.style__HomeSearchInputContainer-sc-1ypokg9-6.hZEhju > div > div > input'\n",
    "send_keys(driver, selector_keyworkd, '제주렌트카')"
   ]
  },
  {
   "cell_type": "code",
   "execution_count": 21,
   "metadata": {},
   "outputs": [],
   "source": [
    "selector_search_button = '#root > main > section.style__HomeTopContainer-sc-1ypokg9-1.isrIVV > div.style__HomeTopInnerWrapper-sc-1ypokg9-2.iKXpzr > div.style__HomeSearchInputContainer-sc-1ypokg9-6.hZEhju > div > div > button'\n",
    "click_button(driver, selector_search_button)"
   ]
  },
  {
   "cell_type": "code",
   "execution_count": 39,
   "metadata": {},
   "outputs": [],
   "source": [
    "selector_trend = '#root > main > div.style__Page-sc-1da7kpf-2.fZCwCC > div > div.style__RefContainer-sc-37aan2-0.efNkHD > div > div.style__GenericContainerWrapper-sc-1sb1qkf-7.bGwDfY > div > div.style__Header-sc-1sb1qkf-1.bcJAkW > div.style__HeaderRight-sc-1sb1qkf-3.ldJJX > span:nth-child(1) > div > div > div.css-1byp58l > div > svg'\n",
    "click_button(driver, selector_trend)"
   ]
  },
  {
   "cell_type": "code",
   "execution_count": 40,
   "metadata": {},
   "outputs": [],
   "source": [
    "\n",
    "selector_daily_trend = '#react-select-2-option-0'\n",
    "# click_button(driver, selector_daily_trend)\n",
    "\n",
    "driver.find_element(By.XPATH, '//*[@id=\"react-select-2-option-0\"]').click()"
   ]
  },
  {
   "cell_type": "code",
   "execution_count": 33,
   "metadata": {},
   "outputs": [
    {
     "ename": "NoSuchElementException",
     "evalue": "Message: no such element: Unable to locate element: {\"method\":\"css selector\",\"selector\":\"root > main > div.style__Page-sc-1da7kpf-2.fZCwCC > div > div.style__RefContainer-sc-37aan2-0.efNkHD > div > div.style__GenericContainerWrapper-sc-1sb1qkf-7.bGwDfY > div > div.style__Header-sc-1sb1qkf-1.bcJAkW > div.style__HeaderRight-sc-1sb1qkf-3.ldJJX > span:nth-child(0) > div > div.css-96n1o2-menu\"}\n  (Session info: chrome=103.0.5060.114)\nStacktrace:\n0   8a5c6448382787fc_chromedriver       0x0000000105182079 8a5c6448382787fc_chromedriver + 4444281\n1   8a5c6448382787fc_chromedriver       0x000000010510e403 8a5c6448382787fc_chromedriver + 3970051\n2   8a5c6448382787fc_chromedriver       0x0000000104da9038 8a5c6448382787fc_chromedriver + 409656\n3   8a5c6448382787fc_chromedriver       0x0000000104ddf2fd 8a5c6448382787fc_chromedriver + 631549\n4   8a5c6448382787fc_chromedriver       0x0000000104ddf581 8a5c6448382787fc_chromedriver + 632193\n5   8a5c6448382787fc_chromedriver       0x0000000104e114f4 8a5c6448382787fc_chromedriver + 836852\n6   8a5c6448382787fc_chromedriver       0x0000000104dfc7bd 8a5c6448382787fc_chromedriver + 751549\n7   8a5c6448382787fc_chromedriver       0x0000000104e0f221 8a5c6448382787fc_chromedriver + 827937\n8   8a5c6448382787fc_chromedriver       0x0000000104dfc683 8a5c6448382787fc_chromedriver + 751235\n9   8a5c6448382787fc_chromedriver       0x0000000104dd2a45 8a5c6448382787fc_chromedriver + 580165\n10  8a5c6448382787fc_chromedriver       0x0000000104dd3a95 8a5c6448382787fc_chromedriver + 584341\n11  8a5c6448382787fc_chromedriver       0x000000010515355d 8a5c6448382787fc_chromedriver + 4253021\n12  8a5c6448382787fc_chromedriver       0x00000001051583a1 8a5c6448382787fc_chromedriver + 4273057\n13  8a5c6448382787fc_chromedriver       0x000000010515d16f 8a5c6448382787fc_chromedriver + 4292975\n14  8a5c6448382787fc_chromedriver       0x0000000105158dea 8a5c6448382787fc_chromedriver + 4275690\n15  8a5c6448382787fc_chromedriver       0x000000010513254f 8a5c6448382787fc_chromedriver + 4117839\n16  8a5c6448382787fc_chromedriver       0x0000000105172ed8 8a5c6448382787fc_chromedriver + 4382424\n17  8a5c6448382787fc_chromedriver       0x000000010517305f 8a5c6448382787fc_chromedriver + 4382815\n18  8a5c6448382787fc_chromedriver       0x00000001051898d5 8a5c6448382787fc_chromedriver + 4475093\n19  libsystem_pthread.dylib             0x00007ff81e7c14e1 _pthread_start + 125\n20  libsystem_pthread.dylib             0x00007ff81e7bcf6b thread_start + 15\n",
     "output_type": "error",
     "traceback": [
      "\u001b[0;31m---------------------------------------------------------------------------\u001b[0m",
      "\u001b[0;31mNoSuchElementException\u001b[0m                    Traceback (most recent call last)",
      "\u001b[1;32m/Users/wanya/Simple_Car_model_crawling/.ipynb_checkpoints/black_wiki.ipynb 셀 18\u001b[0m in \u001b[0;36m<cell line: 4>\u001b[0;34m()\u001b[0m\n\u001b[1;32m      <a href='vscode-notebook-cell:/Users/wanya/Simple_Car_model_crawling/.ipynb_checkpoints/black_wiki.ipynb#ch0000019?line=0'>1</a>\u001b[0m \u001b[39m#root > main > div.style__Page-sc-1da7kpf-2.fZCwCC > div > div.style__RefContainer-sc-37aan2-0.efNkHD > div > div.style__GenericContainerWrapper-sc-1sb1qkf-7.bGwDfY > div > div.style__Header-sc-1sb1qkf-1.bcJAkW > div.style__HeaderRight-sc-1sb1qkf-3.ldJJX > span:nth-child(1) > div > div.css-96n1o2-menu\u001b[39;00m\n\u001b[1;32m      <a href='vscode-notebook-cell:/Users/wanya/Simple_Car_model_crawling/.ipynb_checkpoints/black_wiki.ipynb#ch0000019?line=1'>2</a>\u001b[0m \u001b[39m#root > main > div.style__Page-sc-1da7kpf-2.fZCwCC > div > div.style__RefContainer-sc-37aan2-0.efNkHD > div > div.style__GenericContainerWrapper-sc-1sb1qkf-7.bGwDfY > div > div.style__Header-sc-1sb1qkf-1.bcJAkW > div.style__HeaderRight-sc-1sb1qkf-3.ldJJX > span:nth-child(1) > div > div.css-96n1o2-menu\u001b[39;00m\n\u001b[0;32m----> <a href='vscode-notebook-cell:/Users/wanya/Simple_Car_model_crawling/.ipynb_checkpoints/black_wiki.ipynb#ch0000019?line=3'>4</a>\u001b[0m driver\u001b[39m.\u001b[39;49mfind_element(By\u001b[39m.\u001b[39;49mCSS_SELECTOR, \u001b[39m'\u001b[39;49m\u001b[39mroot > main > div.style__Page-sc-1da7kpf-2.fZCwCC > div > div.style__RefContainer-sc-37aan2-0.efNkHD > div > div.style__GenericContainerWrapper-sc-1sb1qkf-7.bGwDfY > div > div.style__Header-sc-1sb1qkf-1.bcJAkW > div.style__HeaderRight-sc-1sb1qkf-3.ldJJX > span:nth-child(0) > div > div.css-96n1o2-menu\u001b[39;49m\u001b[39m'\u001b[39;49m)\n",
      "File \u001b[0;32m~/opt/anaconda3/envs/data_processing/lib/python3.9/site-packages/selenium/webdriver/remote/webdriver.py:1244\u001b[0m, in \u001b[0;36mWebDriver.find_element\u001b[0;34m(self, by, value)\u001b[0m\n\u001b[1;32m   1241\u001b[0m     by \u001b[39m=\u001b[39m By\u001b[39m.\u001b[39mCSS_SELECTOR\n\u001b[1;32m   1242\u001b[0m     value \u001b[39m=\u001b[39m \u001b[39m'\u001b[39m\u001b[39m[name=\u001b[39m\u001b[39m\"\u001b[39m\u001b[39m%s\u001b[39;00m\u001b[39m\"\u001b[39m\u001b[39m]\u001b[39m\u001b[39m'\u001b[39m \u001b[39m%\u001b[39m value\n\u001b[0;32m-> 1244\u001b[0m \u001b[39mreturn\u001b[39;00m \u001b[39mself\u001b[39;49m\u001b[39m.\u001b[39;49mexecute(Command\u001b[39m.\u001b[39;49mFIND_ELEMENT, {\n\u001b[1;32m   1245\u001b[0m     \u001b[39m'\u001b[39;49m\u001b[39musing\u001b[39;49m\u001b[39m'\u001b[39;49m: by,\n\u001b[1;32m   1246\u001b[0m     \u001b[39m'\u001b[39;49m\u001b[39mvalue\u001b[39;49m\u001b[39m'\u001b[39;49m: value})[\u001b[39m'\u001b[39m\u001b[39mvalue\u001b[39m\u001b[39m'\u001b[39m]\n",
      "File \u001b[0;32m~/opt/anaconda3/envs/data_processing/lib/python3.9/site-packages/selenium/webdriver/remote/webdriver.py:424\u001b[0m, in \u001b[0;36mWebDriver.execute\u001b[0;34m(self, driver_command, params)\u001b[0m\n\u001b[1;32m    422\u001b[0m response \u001b[39m=\u001b[39m \u001b[39mself\u001b[39m\u001b[39m.\u001b[39mcommand_executor\u001b[39m.\u001b[39mexecute(driver_command, params)\n\u001b[1;32m    423\u001b[0m \u001b[39mif\u001b[39;00m response:\n\u001b[0;32m--> 424\u001b[0m     \u001b[39mself\u001b[39;49m\u001b[39m.\u001b[39;49merror_handler\u001b[39m.\u001b[39;49mcheck_response(response)\n\u001b[1;32m    425\u001b[0m     response[\u001b[39m'\u001b[39m\u001b[39mvalue\u001b[39m\u001b[39m'\u001b[39m] \u001b[39m=\u001b[39m \u001b[39mself\u001b[39m\u001b[39m.\u001b[39m_unwrap_value(\n\u001b[1;32m    426\u001b[0m         response\u001b[39m.\u001b[39mget(\u001b[39m'\u001b[39m\u001b[39mvalue\u001b[39m\u001b[39m'\u001b[39m, \u001b[39mNone\u001b[39;00m))\n\u001b[1;32m    427\u001b[0m     \u001b[39mreturn\u001b[39;00m response\n",
      "File \u001b[0;32m~/opt/anaconda3/envs/data_processing/lib/python3.9/site-packages/selenium/webdriver/remote/errorhandler.py:247\u001b[0m, in \u001b[0;36mErrorHandler.check_response\u001b[0;34m(self, response)\u001b[0m\n\u001b[1;32m    245\u001b[0m         alert_text \u001b[39m=\u001b[39m value[\u001b[39m'\u001b[39m\u001b[39malert\u001b[39m\u001b[39m'\u001b[39m]\u001b[39m.\u001b[39mget(\u001b[39m'\u001b[39m\u001b[39mtext\u001b[39m\u001b[39m'\u001b[39m)\n\u001b[1;32m    246\u001b[0m     \u001b[39mraise\u001b[39;00m exception_class(message, screen, stacktrace, alert_text)  \u001b[39m# type: ignore[call-arg]  # mypy is not smart enough here\u001b[39;00m\n\u001b[0;32m--> 247\u001b[0m \u001b[39mraise\u001b[39;00m exception_class(message, screen, stacktrace)\n",
      "\u001b[0;31mNoSuchElementException\u001b[0m: Message: no such element: Unable to locate element: {\"method\":\"css selector\",\"selector\":\"root > main > div.style__Page-sc-1da7kpf-2.fZCwCC > div > div.style__RefContainer-sc-37aan2-0.efNkHD > div > div.style__GenericContainerWrapper-sc-1sb1qkf-7.bGwDfY > div > div.style__Header-sc-1sb1qkf-1.bcJAkW > div.style__HeaderRight-sc-1sb1qkf-3.ldJJX > span:nth-child(0) > div > div.css-96n1o2-menu\"}\n  (Session info: chrome=103.0.5060.114)\nStacktrace:\n0   8a5c6448382787fc_chromedriver       0x0000000105182079 8a5c6448382787fc_chromedriver + 4444281\n1   8a5c6448382787fc_chromedriver       0x000000010510e403 8a5c6448382787fc_chromedriver + 3970051\n2   8a5c6448382787fc_chromedriver       0x0000000104da9038 8a5c6448382787fc_chromedriver + 409656\n3   8a5c6448382787fc_chromedriver       0x0000000104ddf2fd 8a5c6448382787fc_chromedriver + 631549\n4   8a5c6448382787fc_chromedriver       0x0000000104ddf581 8a5c6448382787fc_chromedriver + 632193\n5   8a5c6448382787fc_chromedriver       0x0000000104e114f4 8a5c6448382787fc_chromedriver + 836852\n6   8a5c6448382787fc_chromedriver       0x0000000104dfc7bd 8a5c6448382787fc_chromedriver + 751549\n7   8a5c6448382787fc_chromedriver       0x0000000104e0f221 8a5c6448382787fc_chromedriver + 827937\n8   8a5c6448382787fc_chromedriver       0x0000000104dfc683 8a5c6448382787fc_chromedriver + 751235\n9   8a5c6448382787fc_chromedriver       0x0000000104dd2a45 8a5c6448382787fc_chromedriver + 580165\n10  8a5c6448382787fc_chromedriver       0x0000000104dd3a95 8a5c6448382787fc_chromedriver + 584341\n11  8a5c6448382787fc_chromedriver       0x000000010515355d 8a5c6448382787fc_chromedriver + 4253021\n12  8a5c6448382787fc_chromedriver       0x00000001051583a1 8a5c6448382787fc_chromedriver + 4273057\n13  8a5c6448382787fc_chromedriver       0x000000010515d16f 8a5c6448382787fc_chromedriver + 4292975\n14  8a5c6448382787fc_chromedriver       0x0000000105158dea 8a5c6448382787fc_chromedriver + 4275690\n15  8a5c6448382787fc_chromedriver       0x000000010513254f 8a5c6448382787fc_chromedriver + 4117839\n16  8a5c6448382787fc_chromedriver       0x0000000105172ed8 8a5c6448382787fc_chromedriver + 4382424\n17  8a5c6448382787fc_chromedriver       0x000000010517305f 8a5c6448382787fc_chromedriver + 4382815\n18  8a5c6448382787fc_chromedriver       0x00000001051898d5 8a5c6448382787fc_chromedriver + 4475093\n19  libsystem_pthread.dylib             0x00007ff81e7c14e1 _pthread_start + 125\n20  libsystem_pthread.dylib             0x00007ff81e7bcf6b thread_start + 15\n"
     ]
    }
   ],
   "source": [
    "#root > main > div.style__Page-sc-1da7kpf-2.fZCwCC > div > div.style__RefContainer-sc-37aan2-0.efNkHD > div > div.style__GenericContainerWrapper-sc-1sb1qkf-7.bGwDfY > div > div.style__Header-sc-1sb1qkf-1.bcJAkW > div.style__HeaderRight-sc-1sb1qkf-3.ldJJX > span:nth-child(1) > div > div.css-96n1o2-menu\n",
    "#root > main > div.style__Page-sc-1da7kpf-2.fZCwCC > div > div.style__RefContainer-sc-37aan2-0.efNkHD > div > div.style__GenericContainerWrapper-sc-1sb1qkf-7.bGwDfY > div > div.style__Header-sc-1sb1qkf-1.bcJAkW > div.style__HeaderRight-sc-1sb1qkf-3.ldJJX > span:nth-child(1) > div > div.css-96n1o2-menu\n",
    "select \n",
    "driver.find_element(By.CSS_SELECTOR, 'root > main > div.style__Page-sc-1da7kpf-2.fZCwCC > div > div.style__RefContainer-sc-37aan2-0.efNkHD > div > div.style__GenericContainerWrapper-sc-1sb1qkf-7.bGwDfY > div > div.style__Header-sc-1sb1qkf-1.bcJAkW > div.style__HeaderRight-sc-1sb1qkf-3.ldJJX > span:nth-child(0) > div > div.css-96n1o2-menu')"
   ]
  },
  {
   "cell_type": "code",
   "execution_count": null,
   "metadata": {},
   "outputs": [],
   "source": []
  }
 ],
 "metadata": {
  "kernelspec": {
   "display_name": "Python 3.9.12 ('data_processing')",
   "language": "python",
   "name": "python3"
  },
  "language_info": {
   "codemirror_mode": {
    "name": "ipython",
    "version": 3
   },
   "file_extension": ".py",
   "mimetype": "text/x-python",
   "name": "python",
   "nbconvert_exporter": "python",
   "pygments_lexer": "ipython3",
   "version": "3.9.12"
  },
  "orig_nbformat": 4,
  "vscode": {
   "interpreter": {
    "hash": "469ce03a6fac948bfd12306dd21807efefd1c2dc893c85f19988bc82a60f55e3"
   }
  }
 },
 "nbformat": 4,
 "nbformat_minor": 2
}
