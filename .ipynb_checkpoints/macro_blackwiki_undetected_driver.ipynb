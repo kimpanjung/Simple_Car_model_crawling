{
 "cells": [
  {
   "cell_type": "code",
   "execution_count": 1,
   "metadata": {},
   "outputs": [],
   "source": [
    "import undetected_chromedriver.v2 as uc\n",
    "from selenium.webdriver.common.by import By\n",
    "\n",
    "from selenium.webdriver.support.ui import WebDriverWait\n",
    "from selenium.webdriver.common.by import By\n",
    "from selenium.webdriver.support import expected_conditions as EC\n",
    "\n",
    "def click_button(driver, path):\n",
    "    driver.implicitly_wait(3)\n",
    "    driver.find_element(By.XPATH, path).click()\n",
    "\n",
    "def send_keys(driver, path, value):\n",
    "    driver.implicitly_wait(3)\n",
    "    # WebDriverWait(driver, 5).until(EC.element_to_be_clickable((By.CSS_SELECTOR, path)).send_keys(value)\n",
    "    driver.find_element(By.XPATH, path).send_keys(value)"
   ]
  },
  {
   "cell_type": "code",
   "execution_count": 2,
   "metadata": {},
   "outputs": [],
   "source": [
    "driver = uc.Chrome()\n",
    "driver.get('https://blackkiwi.net/member/login?redirectUrl=/')  # known url using cloudflare's \"under attack mode\"\n",
    "driver.implicitly_wait(30)"
   ]
  },
  {
   "cell_type": "code",
   "execution_count": 3,
   "metadata": {},
   "outputs": [
    {
     "name": "stdout",
     "output_type": "stream",
     "text": [
      "\n"
     ]
    }
   ],
   "source": [
    "# from selenium.webdriver.common.keys import Keys\n",
    "# driver.find_element_by_name(\"Value\").send_keys(Keys.RETURN)\n",
    "\n",
    "print(driver.title)"
   ]
  },
  {
   "cell_type": "code",
   "execution_count": 4,
   "metadata": {},
   "outputs": [
    {
     "data": {
      "text/plain": [
       "'블랙키위 - 로그인'"
      ]
     },
     "execution_count": 4,
     "metadata": {},
     "output_type": "execute_result"
    }
   ],
   "source": [
    "driver.refresh()\n",
    "driver.implicitly_wait(3)\n",
    "driver.title"
   ]
  },
  {
   "cell_type": "code",
   "execution_count": 5,
   "metadata": {},
   "outputs": [],
   "source": [
    "\n",
    "#root > div.style__MemberFormContainer-sc-4c0i84-0.ieeDZC > div > div > input:nth-child(6)\n",
    "xpath_email = '//*[@id=\"root\"]/div[2]/div/div/input[1]'\n",
    "xpath_password = '//*[@id=\"root\"]/div[2]/div/div/input[2]'\n",
    "\n",
    "selector_email = '#root > div.style__MemberForm-sc-4c0i84-2.churSe > input:nth-child(6)'\n",
    "selector_password = '#root > div.style__MemberForm-sc-4c0i84-2.churSe > input:nth-child(7)'\n",
    "selector_login_button ='#root > div.style__MemberForm-sc-4c0i84-2.churSe > button' #'#root > div.style__MemberFormContainer-sc-4c0i84-0.iefOth > div > div > button'\n",
    "\n",
    "send_keys(driver, xpath_email, 'data@jejupass.co.kr')\n",
    "send_keys(driver, xpath_password, 'epdlxj1234!!')"
   ]
  },
  {
   "cell_type": "code",
   "execution_count": 6,
   "metadata": {},
   "outputs": [],
   "source": [
    "# //*[@id=\"root\"]/div[2]/div/div/button\n",
    "xpath_login_button = '//*[@id=\"root\"]/div[2]/div/div/button'\n",
    "click_button(driver, xpath_login_button)"
   ]
  },
  {
   "cell_type": "code",
   "execution_count": 7,
   "metadata": {},
   "outputs": [],
   "source": [
    "xpath_serch_input = '//*[@id=\"root\"]/main/section[1]/div[1]/div[1]/div/div/input'\n",
    "send_keys(driver, xpath_serch_input, '제주렌트카')"
   ]
  },
  {
   "cell_type": "code",
   "execution_count": 8,
   "metadata": {},
   "outputs": [],
   "source": [
    "xpath_search_button = '//*[@id=\"root\"]/main/section[1]/div[1]/div[1]/div/div/button'\n",
    "click_button(driver, xpath_search_button)"
   ]
  },
  {
   "cell_type": "code",
   "execution_count": 11,
   "metadata": {},
   "outputs": [],
   "source": [
    "xpath_trend_choice = '//*[@id=\"root\"]/main/div[2]/div/div[3]/div/div[1]/div/div[1]/div[2]/span[1]/div/div/div[2]/div'\n",
    "click_button(driver, xpath_trend_choice)"
   ]
  },
  {
   "cell_type": "markdown",
   "metadata": {},
   "source": []
  },
  {
   "cell_type": "code",
   "execution_count": 12,
   "metadata": {},
   "outputs": [],
   "source": [
    "xpath_trend_daily = '//*[@id=\"react-select-2-option-0\"]'\n",
    "click_button(driver, xpath_trend_daily)"
   ]
  },
  {
   "cell_type": "code",
   "execution_count": 13,
   "metadata": {},
   "outputs": [],
   "source": [
    "xpath_period = '//*[@id=\"root\"]/main/div[2]/div/div[3]/div/div[1]/div/div[1]/div[2]/span[2]/div/div'\n",
    "click_button(driver, xpath_period)"
   ]
  },
  {
   "cell_type": "code",
   "execution_count": 27,
   "metadata": {},
   "outputs": [],
   "source": [
    "# xpath_2020 = '//*[@id=\"root\"]/main/div[2]/div/div[3]/div/div[1]/div/div[1]/div[2]/span[2]/div/div[2]/div/div/div[5]/div/div[2]/span/span[3]/select/option[3]'\n",
    "# click_button(driver, xpath_2020)"
   ]
  },
  {
   "cell_type": "code",
   "execution_count": 36,
   "metadata": {},
   "outputs": [],
   "source": [
    "# https://stackoverflow.com/questions/61520877/can-we-find-xpath-of-a-text-in-selenium-python\n",
    "# driver.find_element(By.XPATH, \"//span[text()='1']\").click()"
   ]
  },
  {
   "cell_type": "code",
   "execution_count": 15,
   "metadata": {},
   "outputs": [],
   "source": [
    "xpath_done_button = '//*[@id=\"root\"]/main/div[2]/div/div[3]/div/div[1]/div/div[1]/div[2]/span[2]/div/div[2]/div/div/button'\n",
    "# click_button(driver, xpath_done_button)"
   ]
  },
  {
   "cell_type": "code",
   "execution_count": 23,
   "metadata": {},
   "outputs": [],
   "source": [
    "xpath_csv_download = '//*[@id=\"root\"]/main/div[2]/div/div[3]/div/div[1]/div/div[1]/div[2]/span[3]/a/div'\n",
    "click_button(driver, xpath_csv_download)"
   ]
  },
  {
   "cell_type": "code",
   "execution_count": 37,
   "metadata": {},
   "outputs": [],
   "source": [
    "import re\n",
    "from bs4 import BeautifulSoup\n",
    "html = driver.page_source #URL에 해당하는 페이지의 HTML를 가져옴\n",
    "soup = BeautifulSoup(html, 'html.parser')\n",
    "body = soup.find('body')  # body 태그 요소\n",
    "spans = soup.find_all('span')  # 모든 span 요소를 리스트[]형태로 반환\n",
    "test_ids = soup.find_all(\"span\", \"rdrDayNumber\")  #id 속성이 \"test_id\"인 모든 요소를 리스트형태로 반환\n"
   ]
  },
  {
   "cell_type": "code",
   "execution_count": 40,
   "metadata": {},
   "outputs": [
    {
     "data": {
      "text/plain": [
       "[<span class=\"rdrDayNumber\"><span>26</span></span>,\n",
       " <span class=\"rdrDayNumber\"><span>27</span></span>,\n",
       " <span class=\"rdrDayNumber\"><span>28</span></span>,\n",
       " <span class=\"rdrDayNumber\"><span>29</span></span>,\n",
       " <span class=\"rdrDayNumber\"><span>30</span></span>,\n",
       " <span class=\"rdrDayNumber\"><span>31</span></span>,\n",
       " <span class=\"rdrDayNumber\"><span>1</span></span>,\n",
       " <span class=\"rdrDayNumber\"><span>2</span></span>,\n",
       " <span class=\"rdrDayNumber\"><span>3</span></span>,\n",
       " <span class=\"rdrDayNumber\"><span>4</span></span>,\n",
       " <span class=\"rdrDayNumber\"><span>5</span></span>,\n",
       " <span class=\"rdrDayNumber\"><span>6</span></span>,\n",
       " <span class=\"rdrDayNumber\"><span>7</span></span>,\n",
       " <span class=\"rdrDayNumber\"><span>8</span></span>,\n",
       " <span class=\"rdrDayNumber\"><span>9</span></span>,\n",
       " <span class=\"rdrDayNumber\"><span>10</span></span>,\n",
       " <span class=\"rdrDayNumber\"><span>11</span></span>,\n",
       " <span class=\"rdrDayNumber\"><span>12</span></span>,\n",
       " <span class=\"rdrDayNumber\"><span>13</span></span>,\n",
       " <span class=\"rdrDayNumber\"><span>14</span></span>,\n",
       " <span class=\"rdrDayNumber\"><span>15</span></span>,\n",
       " <span class=\"rdrDayNumber\"><span>16</span></span>,\n",
       " <span class=\"rdrDayNumber\"><span>17</span></span>,\n",
       " <span class=\"rdrDayNumber\"><span>18</span></span>,\n",
       " <span class=\"rdrDayNumber\"><span>19</span></span>,\n",
       " <span class=\"rdrDayNumber\"><span>20</span></span>,\n",
       " <span class=\"rdrDayNumber\"><span>21</span></span>,\n",
       " <span class=\"rdrDayNumber\"><span>22</span></span>,\n",
       " <span class=\"rdrDayNumber\"><span>23</span></span>,\n",
       " <span class=\"rdrDayNumber\"><span>24</span></span>,\n",
       " <span class=\"rdrDayNumber\"><span>25</span></span>,\n",
       " <span class=\"rdrDayNumber\"><span>26</span></span>,\n",
       " <span class=\"rdrDayNumber\"><span>27</span></span>,\n",
       " <span class=\"rdrDayNumber\"><span>28</span></span>,\n",
       " <span class=\"rdrDayNumber\"><span>29</span></span>,\n",
       " <span class=\"rdrDayNumber\"><span>30</span></span>,\n",
       " <span class=\"rdrDayNumber\"><span>31</span></span>,\n",
       " <span class=\"rdrDayNumber\"><span>1</span></span>,\n",
       " <span class=\"rdrDayNumber\"><span>2</span></span>,\n",
       " <span class=\"rdrDayNumber\"><span>3</span></span>,\n",
       " <span class=\"rdrDayNumber\"><span>4</span></span>,\n",
       " <span class=\"rdrDayNumber\"><span>5</span></span>]"
      ]
     },
     "execution_count": 40,
     "metadata": {},
     "output_type": "execute_result"
    }
   ],
   "source": [
    "test_ids"
   ]
  },
  {
   "cell_type": "code",
   "execution_count": 49,
   "metadata": {},
   "outputs": [
    {
     "ename": "InvalidSelectorException",
     "evalue": "Message: invalid selector: Unable to locate an element with the xpath expression //*[root(@id, '20'] because of the following error:\nSyntaxError: Failed to execute 'evaluate' on 'Document': The string '//*[root(@id, '20']' is not a valid XPath expression.\n  (Session info: chrome=103.0.5060.114)\nStacktrace:\n0   ea6c883508b53f38_chromedriver       0x0000000104759079 ea6c883508b53f38_chromedriver + 4444281\n1   ea6c883508b53f38_chromedriver       0x00000001046e5403 ea6c883508b53f38_chromedriver + 3970051\n2   ea6c883508b53f38_chromedriver       0x0000000104380038 ea6c883508b53f38_chromedriver + 409656\n3   ea6c883508b53f38_chromedriver       0x0000000104382ee7 ea6c883508b53f38_chromedriver + 421607\n4   ea6c883508b53f38_chromedriver       0x0000000104382d86 ea6c883508b53f38_chromedriver + 421254\n5   ea6c883508b53f38_chromedriver       0x000000010438304c ea6c883508b53f38_chromedriver + 421964\n6   ea6c883508b53f38_chromedriver       0x00000001043b60d5 ea6c883508b53f38_chromedriver + 630997\n7   ea6c883508b53f38_chromedriver       0x00000001043b6581 ea6c883508b53f38_chromedriver + 632193\n8   ea6c883508b53f38_chromedriver       0x00000001043e84f4 ea6c883508b53f38_chromedriver + 836852\n9   ea6c883508b53f38_chromedriver       0x00000001043d37bd ea6c883508b53f38_chromedriver + 751549\n10  ea6c883508b53f38_chromedriver       0x00000001043e6221 ea6c883508b53f38_chromedriver + 827937\n11  ea6c883508b53f38_chromedriver       0x00000001043d3683 ea6c883508b53f38_chromedriver + 751235\n12  ea6c883508b53f38_chromedriver       0x00000001043a9a45 ea6c883508b53f38_chromedriver + 580165\n13  ea6c883508b53f38_chromedriver       0x00000001043aaa95 ea6c883508b53f38_chromedriver + 584341\n14  ea6c883508b53f38_chromedriver       0x000000010472a55d ea6c883508b53f38_chromedriver + 4253021\n15  ea6c883508b53f38_chromedriver       0x000000010472f3a1 ea6c883508b53f38_chromedriver + 4273057\n16  ea6c883508b53f38_chromedriver       0x000000010473416f ea6c883508b53f38_chromedriver + 4292975\n17  ea6c883508b53f38_chromedriver       0x000000010472fdea ea6c883508b53f38_chromedriver + 4275690\n18  ea6c883508b53f38_chromedriver       0x000000010470954f ea6c883508b53f38_chromedriver + 4117839\n19  ea6c883508b53f38_chromedriver       0x0000000104749ed8 ea6c883508b53f38_chromedriver + 4382424\n20  ea6c883508b53f38_chromedriver       0x000000010474a05f ea6c883508b53f38_chromedriver + 4382815\n21  ea6c883508b53f38_chromedriver       0x00000001047608d5 ea6c883508b53f38_chromedriver + 4475093\n22  libsystem_pthread.dylib             0x00007ff80d5054e1 _pthread_start + 125\n23  libsystem_pthread.dylib             0x00007ff80d500f6b thread_start + 15\n",
     "output_type": "error",
     "traceback": [
      "\u001b[0;31m---------------------------------------------------------------------------\u001b[0m",
      "\u001b[0;31mInvalidSelectorException\u001b[0m                  Traceback (most recent call last)",
      "\u001b[1;32m/Users/wanya/Simple_Car_model_crawling/.ipynb_checkpoints/macro_blackwiki_undetected_driver.ipynb 셀 15\u001b[0m in \u001b[0;36m<cell line: 1>\u001b[0;34m()\u001b[0m\n\u001b[0;32m----> <a href='vscode-notebook-cell:/Users/wanya/Simple_Car_model_crawling/.ipynb_checkpoints/macro_blackwiki_undetected_driver.ipynb#ch0000014?line=0'>1</a>\u001b[0m driver\u001b[39m.\u001b[39;49mfind_element(By\u001b[39m.\u001b[39;49mXPATH, \u001b[39m\"\u001b[39;49m\u001b[39m//*[root(@id, \u001b[39;49m\u001b[39m'\u001b[39;49m\u001b[39m20\u001b[39;49m\u001b[39m'\u001b[39;49m\u001b[39m]\u001b[39;49m\u001b[39m\"\u001b[39;49m)\n",
      "File \u001b[0;32m~/opt/anaconda3/envs/data_processing/lib/python3.9/site-packages/selenium/webdriver/remote/webdriver.py:1244\u001b[0m, in \u001b[0;36mWebDriver.find_element\u001b[0;34m(self, by, value)\u001b[0m\n\u001b[1;32m   1241\u001b[0m     by \u001b[39m=\u001b[39m By\u001b[39m.\u001b[39mCSS_SELECTOR\n\u001b[1;32m   1242\u001b[0m     value \u001b[39m=\u001b[39m \u001b[39m'\u001b[39m\u001b[39m[name=\u001b[39m\u001b[39m\"\u001b[39m\u001b[39m%s\u001b[39;00m\u001b[39m\"\u001b[39m\u001b[39m]\u001b[39m\u001b[39m'\u001b[39m \u001b[39m%\u001b[39m value\n\u001b[0;32m-> 1244\u001b[0m \u001b[39mreturn\u001b[39;00m \u001b[39mself\u001b[39;49m\u001b[39m.\u001b[39;49mexecute(Command\u001b[39m.\u001b[39;49mFIND_ELEMENT, {\n\u001b[1;32m   1245\u001b[0m     \u001b[39m'\u001b[39;49m\u001b[39musing\u001b[39;49m\u001b[39m'\u001b[39;49m: by,\n\u001b[1;32m   1246\u001b[0m     \u001b[39m'\u001b[39;49m\u001b[39mvalue\u001b[39;49m\u001b[39m'\u001b[39;49m: value})[\u001b[39m'\u001b[39m\u001b[39mvalue\u001b[39m\u001b[39m'\u001b[39m]\n",
      "File \u001b[0;32m~/opt/anaconda3/envs/data_processing/lib/python3.9/site-packages/selenium/webdriver/remote/webdriver.py:424\u001b[0m, in \u001b[0;36mWebDriver.execute\u001b[0;34m(self, driver_command, params)\u001b[0m\n\u001b[1;32m    422\u001b[0m response \u001b[39m=\u001b[39m \u001b[39mself\u001b[39m\u001b[39m.\u001b[39mcommand_executor\u001b[39m.\u001b[39mexecute(driver_command, params)\n\u001b[1;32m    423\u001b[0m \u001b[39mif\u001b[39;00m response:\n\u001b[0;32m--> 424\u001b[0m     \u001b[39mself\u001b[39;49m\u001b[39m.\u001b[39;49merror_handler\u001b[39m.\u001b[39;49mcheck_response(response)\n\u001b[1;32m    425\u001b[0m     response[\u001b[39m'\u001b[39m\u001b[39mvalue\u001b[39m\u001b[39m'\u001b[39m] \u001b[39m=\u001b[39m \u001b[39mself\u001b[39m\u001b[39m.\u001b[39m_unwrap_value(\n\u001b[1;32m    426\u001b[0m         response\u001b[39m.\u001b[39mget(\u001b[39m'\u001b[39m\u001b[39mvalue\u001b[39m\u001b[39m'\u001b[39m, \u001b[39mNone\u001b[39;00m))\n\u001b[1;32m    427\u001b[0m     \u001b[39mreturn\u001b[39;00m response\n",
      "File \u001b[0;32m~/opt/anaconda3/envs/data_processing/lib/python3.9/site-packages/selenium/webdriver/remote/errorhandler.py:247\u001b[0m, in \u001b[0;36mErrorHandler.check_response\u001b[0;34m(self, response)\u001b[0m\n\u001b[1;32m    245\u001b[0m         alert_text \u001b[39m=\u001b[39m value[\u001b[39m'\u001b[39m\u001b[39malert\u001b[39m\u001b[39m'\u001b[39m]\u001b[39m.\u001b[39mget(\u001b[39m'\u001b[39m\u001b[39mtext\u001b[39m\u001b[39m'\u001b[39m)\n\u001b[1;32m    246\u001b[0m     \u001b[39mraise\u001b[39;00m exception_class(message, screen, stacktrace, alert_text)  \u001b[39m# type: ignore[call-arg]  # mypy is not smart enough here\u001b[39;00m\n\u001b[0;32m--> 247\u001b[0m \u001b[39mraise\u001b[39;00m exception_class(message, screen, stacktrace)\n",
      "\u001b[0;31mInvalidSelectorException\u001b[0m: Message: invalid selector: Unable to locate an element with the xpath expression //*[root(@id, '20'] because of the following error:\nSyntaxError: Failed to execute 'evaluate' on 'Document': The string '//*[root(@id, '20']' is not a valid XPath expression.\n  (Session info: chrome=103.0.5060.114)\nStacktrace:\n0   ea6c883508b53f38_chromedriver       0x0000000104759079 ea6c883508b53f38_chromedriver + 4444281\n1   ea6c883508b53f38_chromedriver       0x00000001046e5403 ea6c883508b53f38_chromedriver + 3970051\n2   ea6c883508b53f38_chromedriver       0x0000000104380038 ea6c883508b53f38_chromedriver + 409656\n3   ea6c883508b53f38_chromedriver       0x0000000104382ee7 ea6c883508b53f38_chromedriver + 421607\n4   ea6c883508b53f38_chromedriver       0x0000000104382d86 ea6c883508b53f38_chromedriver + 421254\n5   ea6c883508b53f38_chromedriver       0x000000010438304c ea6c883508b53f38_chromedriver + 421964\n6   ea6c883508b53f38_chromedriver       0x00000001043b60d5 ea6c883508b53f38_chromedriver + 630997\n7   ea6c883508b53f38_chromedriver       0x00000001043b6581 ea6c883508b53f38_chromedriver + 632193\n8   ea6c883508b53f38_chromedriver       0x00000001043e84f4 ea6c883508b53f38_chromedriver + 836852\n9   ea6c883508b53f38_chromedriver       0x00000001043d37bd ea6c883508b53f38_chromedriver + 751549\n10  ea6c883508b53f38_chromedriver       0x00000001043e6221 ea6c883508b53f38_chromedriver + 827937\n11  ea6c883508b53f38_chromedriver       0x00000001043d3683 ea6c883508b53f38_chromedriver + 751235\n12  ea6c883508b53f38_chromedriver       0x00000001043a9a45 ea6c883508b53f38_chromedriver + 580165\n13  ea6c883508b53f38_chromedriver       0x00000001043aaa95 ea6c883508b53f38_chromedriver + 584341\n14  ea6c883508b53f38_chromedriver       0x000000010472a55d ea6c883508b53f38_chromedriver + 4253021\n15  ea6c883508b53f38_chromedriver       0x000000010472f3a1 ea6c883508b53f38_chromedriver + 4273057\n16  ea6c883508b53f38_chromedriver       0x000000010473416f ea6c883508b53f38_chromedriver + 4292975\n17  ea6c883508b53f38_chromedriver       0x000000010472fdea ea6c883508b53f38_chromedriver + 4275690\n18  ea6c883508b53f38_chromedriver       0x000000010470954f ea6c883508b53f38_chromedriver + 4117839\n19  ea6c883508b53f38_chromedriver       0x0000000104749ed8 ea6c883508b53f38_chromedriver + 4382424\n20  ea6c883508b53f38_chromedriver       0x000000010474a05f ea6c883508b53f38_chromedriver + 4382815\n21  ea6c883508b53f38_chromedriver       0x00000001047608d5 ea6c883508b53f38_chromedriver + 4475093\n22  libsystem_pthread.dylib             0x00007ff80d5054e1 _pthread_start + 125\n23  libsystem_pthread.dylib             0x00007ff80d500f6b thread_start + 15\n"
     ]
    }
   ],
   "source": [
    "driver.find_element(By.XPATH, \"//*[root(@id, '20']\")\n",
    "# //*[@id=\"root\"]/main/div[2]/div/div[3]/div/div[1]/div/div[1]/div[2]/span[2]/div/div[2]/div/div/div[5]/div/div[3]/div/div[3]/button[1]\n",
    "# //*[@id=\"root\"]/main/div[2]/div/div[3]/div/div[1]/div/div[1]/div[2]/span[2]/div/div[2]/div/div/div[5]/div/div[3]/div/div[3]/button[20]\n",
    "# //*[@id=\"root\"]/main/div[2]/div/div[3]/div/div[1]/div/div[1]/div[2]/span[2]/div/div[2]/div/div/div[5]/div/div[3]/div/div[3]/button[21]"
   ]
  },
  {
   "cell_type": "code",
   "execution_count": 48,
   "metadata": {},
   "outputs": [
    {
     "ename": "NameError",
     "evalue": "name 'generateXPATH' is not defined",
     "output_type": "error",
     "traceback": [
      "\u001b[0;31m---------------------------------------------------------------------------\u001b[0m",
      "\u001b[0;31mNameError\u001b[0m                                 Traceback (most recent call last)",
      "\u001b[1;32m/Users/wanya/Simple_Car_model_crawling/.ipynb_checkpoints/macro_blackwiki_undetected_driver.ipynb 셀 16\u001b[0m in \u001b[0;36m<cell line: 1>\u001b[0;34m()\u001b[0m\n\u001b[0;32m----> <a href='vscode-notebook-cell:/Users/wanya/Simple_Car_model_crawling/.ipynb_checkpoints/macro_blackwiki_undetected_driver.ipynb#ch0000015?line=0'>1</a>\u001b[0m generateXPATH(element, \u001b[39m\"\u001b[39m\u001b[39m\"\u001b[39m)\n",
      "\u001b[0;31mNameError\u001b[0m: name 'generateXPATH' is not defined"
     ]
    }
   ],
   "source": [
    "generateXPATH(element, \"\");\n"
   ]
  },
  {
   "cell_type": "code",
   "execution_count": 65,
   "metadata": {},
   "outputs": [
    {
     "ename": "NoSuchElementException",
     "evalue": "Message: no such element: Unable to locate element: {\"method\":\"xpath\",\"selector\":\"//span[text()='rdrDayNumber']\"}\n  (Session info: chrome=103.0.5060.114)\nStacktrace:\n0   ea6c883508b53f38_chromedriver       0x0000000104759079 ea6c883508b53f38_chromedriver + 4444281\n1   ea6c883508b53f38_chromedriver       0x00000001046e5403 ea6c883508b53f38_chromedriver + 3970051\n2   ea6c883508b53f38_chromedriver       0x0000000104380038 ea6c883508b53f38_chromedriver + 409656\n3   ea6c883508b53f38_chromedriver       0x00000001043b62fd ea6c883508b53f38_chromedriver + 631549\n4   ea6c883508b53f38_chromedriver       0x00000001043b6581 ea6c883508b53f38_chromedriver + 632193\n5   ea6c883508b53f38_chromedriver       0x00000001043e84f4 ea6c883508b53f38_chromedriver + 836852\n6   ea6c883508b53f38_chromedriver       0x00000001043d37bd ea6c883508b53f38_chromedriver + 751549\n7   ea6c883508b53f38_chromedriver       0x00000001043e6221 ea6c883508b53f38_chromedriver + 827937\n8   ea6c883508b53f38_chromedriver       0x00000001043d3683 ea6c883508b53f38_chromedriver + 751235\n9   ea6c883508b53f38_chromedriver       0x00000001043a9a45 ea6c883508b53f38_chromedriver + 580165\n10  ea6c883508b53f38_chromedriver       0x00000001043aaa95 ea6c883508b53f38_chromedriver + 584341\n11  ea6c883508b53f38_chromedriver       0x000000010472a55d ea6c883508b53f38_chromedriver + 4253021\n12  ea6c883508b53f38_chromedriver       0x000000010472f3a1 ea6c883508b53f38_chromedriver + 4273057\n13  ea6c883508b53f38_chromedriver       0x000000010473416f ea6c883508b53f38_chromedriver + 4292975\n14  ea6c883508b53f38_chromedriver       0x000000010472fdea ea6c883508b53f38_chromedriver + 4275690\n15  ea6c883508b53f38_chromedriver       0x000000010470954f ea6c883508b53f38_chromedriver + 4117839\n16  ea6c883508b53f38_chromedriver       0x0000000104749ed8 ea6c883508b53f38_chromedriver + 4382424\n17  ea6c883508b53f38_chromedriver       0x000000010474a05f ea6c883508b53f38_chromedriver + 4382815\n18  ea6c883508b53f38_chromedriver       0x00000001047608d5 ea6c883508b53f38_chromedriver + 4475093\n19  libsystem_pthread.dylib             0x00007ff80d5054e1 _pthread_start + 125\n20  libsystem_pthread.dylib             0x00007ff80d500f6b thread_start + 15\n",
     "output_type": "error",
     "traceback": [
      "\u001b[0;31m---------------------------------------------------------------------------\u001b[0m",
      "\u001b[0;31mNoSuchElementException\u001b[0m                    Traceback (most recent call last)",
      "\u001b[1;32m/Users/wanya/Simple_Car_model_crawling/.ipynb_checkpoints/macro_blackwiki_undetected_driver.ipynb 셀 17\u001b[0m in \u001b[0;36m<cell line: 2>\u001b[0;34m()\u001b[0m\n\u001b[1;32m      <a href='vscode-notebook-cell:/Users/wanya/Simple_Car_model_crawling/.ipynb_checkpoints/macro_blackwiki_undetected_driver.ipynb#ch0000016?line=0'>1</a>\u001b[0m \u001b[39m# driver.find_Element(By.xpath(\"//span[@class='rdrDayNumber']\")).getAttribute(\"alt\");\u001b[39;00m\n\u001b[0;32m----> <a href='vscode-notebook-cell:/Users/wanya/Simple_Car_model_crawling/.ipynb_checkpoints/macro_blackwiki_undetected_driver.ipynb#ch0000016?line=1'>2</a>\u001b[0m \u001b[39mfor\u001b[39;00m actual_row \u001b[39min\u001b[39;00m driver\u001b[39m.\u001b[39;49mfind_element(By\u001b[39m.\u001b[39;49mXPATH, \u001b[39m\"\u001b[39;49m\u001b[39m//span[text()=\u001b[39;49m\u001b[39m'\u001b[39;49m\u001b[39mrdrDayNumber\u001b[39;49m\u001b[39m'\u001b[39;49m\u001b[39m]\u001b[39;49m\u001b[39m\"\u001b[39;49m):\n\u001b[1;32m      <a href='vscode-notebook-cell:/Users/wanya/Simple_Car_model_crawling/.ipynb_checkpoints/macro_blackwiki_undetected_driver.ipynb#ch0000016?line=2'>3</a>\u001b[0m     this_row \u001b[39m=\u001b[39m actual_row[\u001b[39m0\u001b[39m]\n\u001b[1;32m      <a href='vscode-notebook-cell:/Users/wanya/Simple_Car_model_crawling/.ipynb_checkpoints/macro_blackwiki_undetected_driver.ipynb#ch0000016?line=3'>4</a>\u001b[0m     \u001b[39mprint\u001b[39m(this_row\u001b[39m.\u001b[39mtext)\n",
      "File \u001b[0;32m~/opt/anaconda3/envs/data_processing/lib/python3.9/site-packages/selenium/webdriver/remote/webdriver.py:1244\u001b[0m, in \u001b[0;36mWebDriver.find_element\u001b[0;34m(self, by, value)\u001b[0m\n\u001b[1;32m   1241\u001b[0m     by \u001b[39m=\u001b[39m By\u001b[39m.\u001b[39mCSS_SELECTOR\n\u001b[1;32m   1242\u001b[0m     value \u001b[39m=\u001b[39m \u001b[39m'\u001b[39m\u001b[39m[name=\u001b[39m\u001b[39m\"\u001b[39m\u001b[39m%s\u001b[39;00m\u001b[39m\"\u001b[39m\u001b[39m]\u001b[39m\u001b[39m'\u001b[39m \u001b[39m%\u001b[39m value\n\u001b[0;32m-> 1244\u001b[0m \u001b[39mreturn\u001b[39;00m \u001b[39mself\u001b[39;49m\u001b[39m.\u001b[39;49mexecute(Command\u001b[39m.\u001b[39;49mFIND_ELEMENT, {\n\u001b[1;32m   1245\u001b[0m     \u001b[39m'\u001b[39;49m\u001b[39musing\u001b[39;49m\u001b[39m'\u001b[39;49m: by,\n\u001b[1;32m   1246\u001b[0m     \u001b[39m'\u001b[39;49m\u001b[39mvalue\u001b[39;49m\u001b[39m'\u001b[39;49m: value})[\u001b[39m'\u001b[39m\u001b[39mvalue\u001b[39m\u001b[39m'\u001b[39m]\n",
      "File \u001b[0;32m~/opt/anaconda3/envs/data_processing/lib/python3.9/site-packages/selenium/webdriver/remote/webdriver.py:424\u001b[0m, in \u001b[0;36mWebDriver.execute\u001b[0;34m(self, driver_command, params)\u001b[0m\n\u001b[1;32m    422\u001b[0m response \u001b[39m=\u001b[39m \u001b[39mself\u001b[39m\u001b[39m.\u001b[39mcommand_executor\u001b[39m.\u001b[39mexecute(driver_command, params)\n\u001b[1;32m    423\u001b[0m \u001b[39mif\u001b[39;00m response:\n\u001b[0;32m--> 424\u001b[0m     \u001b[39mself\u001b[39;49m\u001b[39m.\u001b[39;49merror_handler\u001b[39m.\u001b[39;49mcheck_response(response)\n\u001b[1;32m    425\u001b[0m     response[\u001b[39m'\u001b[39m\u001b[39mvalue\u001b[39m\u001b[39m'\u001b[39m] \u001b[39m=\u001b[39m \u001b[39mself\u001b[39m\u001b[39m.\u001b[39m_unwrap_value(\n\u001b[1;32m    426\u001b[0m         response\u001b[39m.\u001b[39mget(\u001b[39m'\u001b[39m\u001b[39mvalue\u001b[39m\u001b[39m'\u001b[39m, \u001b[39mNone\u001b[39;00m))\n\u001b[1;32m    427\u001b[0m     \u001b[39mreturn\u001b[39;00m response\n",
      "File \u001b[0;32m~/opt/anaconda3/envs/data_processing/lib/python3.9/site-packages/selenium/webdriver/remote/errorhandler.py:247\u001b[0m, in \u001b[0;36mErrorHandler.check_response\u001b[0;34m(self, response)\u001b[0m\n\u001b[1;32m    245\u001b[0m         alert_text \u001b[39m=\u001b[39m value[\u001b[39m'\u001b[39m\u001b[39malert\u001b[39m\u001b[39m'\u001b[39m]\u001b[39m.\u001b[39mget(\u001b[39m'\u001b[39m\u001b[39mtext\u001b[39m\u001b[39m'\u001b[39m)\n\u001b[1;32m    246\u001b[0m     \u001b[39mraise\u001b[39;00m exception_class(message, screen, stacktrace, alert_text)  \u001b[39m# type: ignore[call-arg]  # mypy is not smart enough here\u001b[39;00m\n\u001b[0;32m--> 247\u001b[0m \u001b[39mraise\u001b[39;00m exception_class(message, screen, stacktrace)\n",
      "\u001b[0;31mNoSuchElementException\u001b[0m: Message: no such element: Unable to locate element: {\"method\":\"xpath\",\"selector\":\"//span[text()='rdrDayNumber']\"}\n  (Session info: chrome=103.0.5060.114)\nStacktrace:\n0   ea6c883508b53f38_chromedriver       0x0000000104759079 ea6c883508b53f38_chromedriver + 4444281\n1   ea6c883508b53f38_chromedriver       0x00000001046e5403 ea6c883508b53f38_chromedriver + 3970051\n2   ea6c883508b53f38_chromedriver       0x0000000104380038 ea6c883508b53f38_chromedriver + 409656\n3   ea6c883508b53f38_chromedriver       0x00000001043b62fd ea6c883508b53f38_chromedriver + 631549\n4   ea6c883508b53f38_chromedriver       0x00000001043b6581 ea6c883508b53f38_chromedriver + 632193\n5   ea6c883508b53f38_chromedriver       0x00000001043e84f4 ea6c883508b53f38_chromedriver + 836852\n6   ea6c883508b53f38_chromedriver       0x00000001043d37bd ea6c883508b53f38_chromedriver + 751549\n7   ea6c883508b53f38_chromedriver       0x00000001043e6221 ea6c883508b53f38_chromedriver + 827937\n8   ea6c883508b53f38_chromedriver       0x00000001043d3683 ea6c883508b53f38_chromedriver + 751235\n9   ea6c883508b53f38_chromedriver       0x00000001043a9a45 ea6c883508b53f38_chromedriver + 580165\n10  ea6c883508b53f38_chromedriver       0x00000001043aaa95 ea6c883508b53f38_chromedriver + 584341\n11  ea6c883508b53f38_chromedriver       0x000000010472a55d ea6c883508b53f38_chromedriver + 4253021\n12  ea6c883508b53f38_chromedriver       0x000000010472f3a1 ea6c883508b53f38_chromedriver + 4273057\n13  ea6c883508b53f38_chromedriver       0x000000010473416f ea6c883508b53f38_chromedriver + 4292975\n14  ea6c883508b53f38_chromedriver       0x000000010472fdea ea6c883508b53f38_chromedriver + 4275690\n15  ea6c883508b53f38_chromedriver       0x000000010470954f ea6c883508b53f38_chromedriver + 4117839\n16  ea6c883508b53f38_chromedriver       0x0000000104749ed8 ea6c883508b53f38_chromedriver + 4382424\n17  ea6c883508b53f38_chromedriver       0x000000010474a05f ea6c883508b53f38_chromedriver + 4382815\n18  ea6c883508b53f38_chromedriver       0x00000001047608d5 ea6c883508b53f38_chromedriver + 4475093\n19  libsystem_pthread.dylib             0x00007ff80d5054e1 _pthread_start + 125\n20  libsystem_pthread.dylib             0x00007ff80d500f6b thread_start + 15\n"
     ]
    }
   ],
   "source": [
    "# driver.find_Element(By.xpath(\"//span[@class='rdrDayNumber']\")).getAttribute(\"alt\");\n",
    "for actual_row in driver.find_element(By.XPATH, \"//span[text()='rdrDayNumber']\"):\n",
    "    this_row = actual_row[0]\n",
    "    print(this_row.text)\n"
   ]
  },
  {
   "cell_type": "code",
   "execution_count": 1,
   "metadata": {},
   "outputs": [
    {
     "ename": "NameError",
     "evalue": "name 'driver' is not defined",
     "output_type": "error",
     "traceback": [
      "\u001b[0;31m---------------------------------------------------------------------------\u001b[0m",
      "\u001b[0;31mNameError\u001b[0m                                 Traceback (most recent call last)",
      "\u001b[1;32m/Users/wanya/Simple_Car_model_crawling/.ipynb_checkpoints/macro_blackwiki_undetected_driver.ipynb 셀 18\u001b[0m in \u001b[0;36m<cell line: 2>\u001b[0;34m()\u001b[0m\n\u001b[1;32m      <a href='vscode-notebook-cell:/Users/wanya/Simple_Car_model_crawling/.ipynb_checkpoints/macro_blackwiki_undetected_driver.ipynb#ch0000017?line=0'>1</a>\u001b[0m \u001b[39m# https://stackoverflow.com/questions/61520877/can-we-find-xpath-of-a-text-in-selenium-python\u001b[39;00m\n\u001b[0;32m----> <a href='vscode-notebook-cell:/Users/wanya/Simple_Car_model_crawling/.ipynb_checkpoints/macro_blackwiki_undetected_driver.ipynb#ch0000017?line=1'>2</a>\u001b[0m driver\u001b[39m.\u001b[39mfind_element(By\u001b[39m.\u001b[39mXPATH, \u001b[39m\"\u001b[39m\u001b[39m//span[text()=\u001b[39m\u001b[39m'\u001b[39m\u001b[39m20\u001b[39m\u001b[39m'\u001b[39m\u001b[39m]\u001b[39m\u001b[39m\"\u001b[39m)\u001b[39m.\u001b[39mclick()\n",
      "\u001b[0;31mNameError\u001b[0m: name 'driver' is not defined"
     ]
    }
   ],
   "source": []
  },
  {
   "cell_type": "code",
   "execution_count": null,
   "metadata": {},
   "outputs": [],
   "source": []
  },
  {
   "cell_type": "code",
   "execution_count": null,
   "metadata": {},
   "outputs": [],
   "source": []
  }
 ],
 "metadata": {
  "kernelspec": {
   "display_name": "Python 3.9.12 ('data_processing')",
   "language": "python",
   "name": "python3"
  },
  "language_info": {
   "codemirror_mode": {
    "name": "ipython",
    "version": 3
   },
   "file_extension": ".py",
   "mimetype": "text/x-python",
   "name": "python",
   "nbconvert_exporter": "python",
   "pygments_lexer": "ipython3",
   "version": "3.9.12"
  },
  "orig_nbformat": 4,
  "vscode": {
   "interpreter": {
    "hash": "469ce03a6fac948bfd12306dd21807efefd1c2dc893c85f19988bc82a60f55e3"
   }
  }
 },
 "nbformat": 4,
 "nbformat_minor": 2
}
