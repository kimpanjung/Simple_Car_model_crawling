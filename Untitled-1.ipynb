{
 "cells": [
  {
   "cell_type": "code",
   "execution_count": 5,
   "metadata": {},
   "outputs": [
    {
     "data": {
      "text/plain": [
       "'리소스를 기다리는 시간(3초)'"
      ]
     },
     "execution_count": 5,
     "metadata": {},
     "output_type": "execute_result"
    }
   ],
   "source": [
    "from selenium import webdriver\n",
    "from bs4 import BeautifulSoup\n",
    "from selenium.webdriver.support.ui import Select\n",
    "\n",
    "driver = webdriver.Chrome('chromedriver.exe')\n",
    "driver.get('https://www.dabangapp.com/room/61cb02c384e5fe4b6cb27971')\n",
    "delay = 5\n",
    "driver.implicitly_wait(delay)\n",
    "\"\"\"리소스를 기다리는 시간(3초)\"\"\"\n"
   ]
  },
  {
   "cell_type": "code",
   "execution_count": null,
   "metadata": {},
   "outputs": [],
   "source": [
    "# https://www.dabangapp.com/room/61cb02c384e5fe4b6cb27971"
   ]
  }
 ],
 "metadata": {
  "interpreter": {
   "hash": "d078e9cf019aede220e049bfb48dcc02c1112790220ada31c156955f35325f20"
  },
  "kernelspec": {
   "display_name": "Python 3.8.5 64-bit ('python3': conda)",
   "language": "python",
   "name": "python3"
  },
  "language_info": {
   "codemirror_mode": {
    "name": "ipython",
    "version": 3
   },
   "file_extension": ".py",
   "mimetype": "text/x-python",
   "name": "python",
   "nbconvert_exporter": "python",
   "pygments_lexer": "ipython3",
   "version": "3.8.5"
  },
  "orig_nbformat": 4
 },
 "nbformat": 4,
 "nbformat_minor": 2
}
